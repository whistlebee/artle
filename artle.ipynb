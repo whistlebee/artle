{
 "cells": [
  {
   "cell_type": "code",
   "execution_count": 14,
   "id": "6c11466a-4c1f-4eae-945c-f0730e903539",
   "metadata": {},
   "outputs": [],
   "source": [
    "import pandas as pd\n",
    "import random as rd\n",
    "from PIL import Image"
   ]
  },
  {
   "cell_type": "code",
   "execution_count": 3,
   "id": "7ad8e2da",
   "metadata": {},
   "outputs": [],
   "source": [
    "# Load data\n",
    "art_df = pd.read_csv('artDataset.csv')\n"
   ]
  },
  {
   "cell_type": "code",
   "execution_count": 24,
   "id": "2bd6c8e7",
   "metadata": {},
   "outputs": [],
   "source": [
    "# Add reference to file name\n",
    "art_df['file'] = 'image_'+(art_df.index+1).astype('string')+'.png'\n",
    "# Remove currency from price\n",
    "art_df['price_raw'] = art_df.price\n",
    "art_df.price = art_df.price.str.replace(' USD', '').astype('float')"
   ]
  },
  {
   "cell_type": "code",
   "execution_count": 36,
   "id": "923bf15d",
   "metadata": {},
   "outputs": [],
   "source": [
    "# Basic function for picking and asking\n",
    "def questioner(data):\n",
    "    rounds = 0\n",
    "    rand_number = rd.randint(0, len(data))\n",
    "    price = art_df.price.loc[rand_number]\n",
    "    Image.open('artDataset/' + art_df.file.loc[rand_number]).show()\n",
    "    while rounds <= 6:\n",
    "        answer = float(input('How much is this art worth?'))\n",
    "        print('Your answer:', answer)\n",
    "        if answer == price:\n",
    "            print('You are right')\n",
    "            break\n",
    "        elif answer > price:\n",
    "            print('Too High')\n",
    "        elif answer < price:\n",
    "            print('Too low')\n",
    "        else:\n",
    "            pass\n",
    "        rounds += 1\n",
    "    else:\n",
    "        print('Out of rounds')"
   ]
  },
  {
   "cell_type": "code",
   "execution_count": 38,
   "id": "4ed50562",
   "metadata": {},
   "outputs": [
    {
     "name": "stdout",
     "output_type": "stream",
     "text": [
      "Your answer: 20.0\n",
      "You are right\n"
     ]
    }
   ],
   "source": [
    "questioner(art_df)"
   ]
  }
 ],
 "metadata": {
  "kernelspec": {
   "display_name": "Python 3",
   "language": "python",
   "name": "python3"
  },
  "language_info": {
   "codemirror_mode": {
    "name": "ipython",
    "version": 3
   },
   "file_extension": ".py",
   "mimetype": "text/x-python",
   "name": "python",
   "nbconvert_exporter": "python",
   "pygments_lexer": "ipython3",
   "version": "3.12.4"
  }
 },
 "nbformat": 4,
 "nbformat_minor": 5
}
